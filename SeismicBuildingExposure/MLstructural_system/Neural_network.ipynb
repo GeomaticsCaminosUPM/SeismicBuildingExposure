{
 "cells": [
  {
   "cell_type": "code",
   "execution_count": 14,
   "metadata": {},
   "outputs": [],
   "source": [
    "import pandas as pd\n",
    "import numpy as np\n",
    "import torch\n",
    "import torch.nn as nn\n",
    "import torch.optim as optim\n",
    "import matplotlib.pyplot as plt\n",
    "from sklearn.model_selection import train_test_split\n",
    "from sklearn.preprocessing import LabelEncoder, StandardScaler\n",
    "from sklearn.metrics import classification_report, accuracy_score"
   ]
  },
  {
   "cell_type": "code",
   "execution_count": 2,
   "metadata": {},
   "outputs": [],
   "source": [
    "df = pd.read_csv(\"3_classes_processed_data.csv\")"
   ]
  },
  {
   "cell_type": "code",
   "execution_count": 3,
   "metadata": {},
   "outputs": [],
   "source": [
    "label_encoders = {}\n",
    "for column in ['ductility', 'roof', 'relative_position']:\n",
    "    label_encoders[column] = LabelEncoder()\n",
    "    df[column] = label_encoders[column].fit_transform(df[column])"
   ]
  },
  {
   "cell_type": "code",
   "execution_count": 4,
   "metadata": {},
   "outputs": [],
   "source": [
    "# Encode the target variable\n",
    "label_encoder_target = LabelEncoder()\n",
    "df['structural_system'] = label_encoder_target.fit_transform(df['structural_system'])\n",
    "\n",
    "# Define features and target\n",
    "X = df.drop(columns=['structural_system'])\n",
    "y = df['structural_system']\n",
    "\n",
    "# Split the data into training and test sets\n",
    "X_train, X_test, y_train, y_test = train_test_split(X, y, test_size=0.2, random_state=42)\n",
    "\n",
    "# Standardize the features\n",
    "scaler = StandardScaler()\n",
    "X_train_scaled = scaler.fit_transform(X_train)\n",
    "X_test_scaled = scaler.transform(X_test)\n",
    "\n",
    "# Convert to PyTorch tensors\n",
    "X_train_tensor = torch.tensor(X_train_scaled, dtype=torch.float32)\n",
    "y_train_tensor = torch.tensor(y_train.values, dtype=torch.long)\n",
    "X_test_tensor = torch.tensor(X_test_scaled, dtype=torch.float32)\n",
    "y_test_tensor = torch.tensor(y_test.values, dtype=torch.long)"
   ]
  },
  {
   "cell_type": "code",
   "execution_count": 23,
   "metadata": {},
   "outputs": [],
   "source": [
    "# Define a very simple neural network model\n",
    "class VerySimpleNN(nn.Module):\n",
    "    def __init__(self, input_size, num_classes):\n",
    "        super(VerySimpleNN, self).__init__()\n",
    "        self.fc1 = nn.Linear(input_size, num_classes)\n",
    "\n",
    "    def forward(self, x):\n",
    "        x = self.fc1(x)\n",
    "        return x\n",
    "\n",
    "# Initialize the model, loss function, and optimizer\n",
    "input_size = X_train_res_scaled.shape[1]\n",
    "num_classes = len(label_encoder_target.classes_)\n",
    "model = VerySimpleNN(input_size, num_classes)\n",
    "criterion = nn.CrossEntropyLoss()\n",
    "optimizer = optim.SGD(model.parameters(), lr=0.01, momentum=0.9)  # Using SGD with momentum\n"
   ]
  },
  {
   "cell_type": "code",
   "execution_count": 25,
   "metadata": {},
   "outputs": [
    {
     "data": {
      "image/png": "[encoded data removed]",
      "text/plain": [
       "<Figure size 640x480 with 1 Axes>"
      ]
     },
     "metadata": {},
     "output_type": "display_data"
    },
    {
     "name": "stdout",
     "output_type": "stream",
     "text": [
      "With SMOTE and Complex Model:\n",
      "Accuracy: 0.6753623188405797\n",
      "Classification Report:\n",
      "              precision    recall  f1-score   support\n",
      "\n",
      "          CR       0.51      0.76      0.61        63\n",
      "           M       0.88      0.63      0.74       238\n",
      "       Other       0.42      0.77      0.55        44\n",
      "\n",
      "    accuracy                           0.68       345\n",
      "   macro avg       0.61      0.72      0.63       345\n",
      "weighted avg       0.76      0.68      0.69       345\n",
      "\n"
     ]
    }
   ],
   "source": [
    "# Training the model with loss tracking\n",
    "num_epochs = 10000\n",
    "losses = []\n",
    "\n",
    "for epoch in range(num_epochs):\n",
    "    model.train()\n",
    "    optimizer.zero_grad()\n",
    "    outputs = model(X_train_res_tensor)\n",
    "    loss = criterion(outputs, y_train_res_tensor)\n",
    "    loss.backward()\n",
    "    optimizer.step()\n",
    "    losses.append(loss.item())\n",
    "    scheduler.step()\n",
    "\n",
    "# Plot the training loss\n",
    "plt.plot(losses, label='Training Loss')\n",
    "plt.xlabel('Epoch')\n",
    "plt.ylabel('Loss')\n",
    "plt.legend()\n",
    "plt.show()\n",
    "\n",
    "# Make predictions\n",
    "model.eval()\n",
    "with torch.no_grad():\n",
    "    outputs = model(X_test_tensor)\n",
    "    _, predicted = torch.max(outputs, 1)\n",
    "\n",
    "# Decode the predictions for interpretation\n",
    "y_pred_decoded = label_encoder_target.inverse_transform(predicted.numpy())\n",
    "y_test_decoded = label_encoder_target.inverse_transform(y_test_tensor.numpy())\n",
    "\n",
    "# Evaluate the model\n",
    "accuracy = accuracy_score(y_test_decoded, y_pred_decoded)\n",
    "report = classification_report(y_test_decoded, y_pred_decoded)\n",
    "\n",
    "print(\"With SMOTE and Complex Model:\")\n",
    "print(f\"Accuracy: {accuracy}\")\n",
    "print(\"Classification Report:\")\n",
    "print(report)"
   ]
  },
  {
   "cell_type": "code",
   "execution_count": 11,
   "metadata": {},
   "outputs": [
    {
     "name": "stdout",
     "output_type": "stream",
     "text": [
      "With SMOTE:\n",
      "Accuracy: 0.6956521739130435\n",
      "Classification Report:\n",
      "              precision    recall  f1-score   support\n",
      "\n",
      "          CR       0.51      0.75      0.60        63\n",
      "           M       0.89      0.68      0.77       238\n",
      "       Other       0.44      0.70      0.54        44\n",
      "\n",
      "    accuracy                           0.70       345\n",
      "   macro avg       0.61      0.71      0.64       345\n",
      "weighted avg       0.76      0.70      0.71       345\n",
      "\n"
     ]
    }
   ],
   "source": [
    "from imblearn.over_sampling import SMOTE\n",
    "\n",
    "# Apply SMOTE to handle class imbalance\n",
    "smote = SMOTE(random_state=42)\n",
    "X_train_res, y_train_res = smote.fit_resample(X_train, y_train)\n",
    "\n",
    "# Standardize the features\n",
    "X_train_res_scaled = scaler.fit_transform(X_train_res)\n",
    "X_test_scaled = scaler.transform(X_test)\n",
    "\n",
    "# Convert to PyTorch tensors\n",
    "X_train_res_tensor = torch.tensor(X_train_res_scaled, dtype=torch.float32)\n",
    "y_train_res_tensor = torch.tensor(y_train_res.values, dtype=torch.long)\n",
    "\n",
    "# Initialize the model, loss function, and optimizer\n",
    "model_smote = SimpleNN(input_size, num_classes)\n",
    "criterion_smote = nn.CrossEntropyLoss()\n",
    "optimizer_smote = optim.Adam(model_smote.parameters(), lr=0.001)\n",
    "\n",
    "# Train the model\n",
    "for epoch in range(num_epochs):\n",
    "    model_smote.train()\n",
    "    optimizer_smote.zero_grad()\n",
    "    outputs_smote = model_smote(X_train_res_tensor)\n",
    "    loss_smote = criterion_smote(outputs_smote, y_train_res_tensor)\n",
    "    loss_smote.backward()\n",
    "    optimizer_smote.step()\n",
    "\n",
    "# Make predictions\n",
    "model_smote.eval()\n",
    "with torch.no_grad():\n",
    "    outputs_smote = model_smote(X_test_tensor)\n",
    "    _, predicted_smote = torch.max(outputs_smote, 1)\n",
    "\n",
    "# Decode the predictions for interpretation\n",
    "y_pred_smote_decoded = label_encoder_target.inverse_transform(predicted_smote.numpy())\n",
    "\n",
    "# Evaluate the model\n",
    "accuracy_smote = accuracy_score(y_test_decoded, y_pred_smote_decoded)\n",
    "report_smote = classification_report(y_test_decoded, y_pred_smote_decoded)\n",
    "\n",
    "print(\"With SMOTE:\")\n",
    "print(f\"Accuracy: {accuracy_smote}\")\n",
    "print(\"Classification Report:\")\n",
    "print(report_smote)\n"
   ]
  }
 ],
 "metadata": {
  "kernelspec": {
   "display_name": "venv",
   "language": "python",
   "name": "python3"
  },
  "language_info": {
   "codemirror_mode": {
    "name": "ipython",
    "version": 3
   },
   "file_extension": ".py",
   "mimetype": "text/x-python",
   "name": "python",
   "nbconvert_exporter": "python",
   "pygments_lexer": "ipython3",
   "version": "3.12.3"
  }
 },
 "nbformat": 4,
 "nbformat_minor": 2
}
